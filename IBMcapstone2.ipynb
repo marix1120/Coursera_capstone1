{
    "nbformat_minor": 1, 
    "cells": [
        {
            "source": "# Capstone Project - The Battle of Neighborhoods (Week 1)", 
            "cell_type": "markdown", 
            "metadata": {
                "collapsed": true
            }
        }, 
        {
            "source": "# Manhattan - New York", 
            "cell_type": "markdown", 
            "metadata": {}
        }, 
        {
            "source": "Instructions: Clearly define a problem or an idea of your choice, where you would need to leverage the Foursquare location data to solve or execute. Remember that data science problems always target an audience and are meant to help a group of stakeholders solve a problem, so make sure that you explicitly describe your audience and why they would care about your problem.\n", 
            "cell_type": "markdown", 
            "metadata": {}
        }, 
        {
            "source": "# Manhattan Restaurant Business Inspection: A Use Case of Crime Data and Foursquare\nby Mari Takashima\n", 
            "cell_type": "markdown", 
            "metadata": {}
        }, 
        {
            "source": "\n## Introduction \nIn this report, I will explore and analyse a dataset collected about Manhattan restaurant businesses inspections. The target audience for this project is the foreigners, who are not currently residing in Manhattan, that are looking into opening a restaurant business. For a foreigner starting a business in an unfamiliar location, the first concern will be the safety. Is the location safe enough for a foreigner to open a business? Is it close to the neighbourhood with high crime rates? This report will analyse the crime data in Manhattan by using the techniques learnt in this IBM course and select a few locations that have low crime rates. The second concern will be to know about the popular venues in the locations. The popular venues in the location can tell us about the people and the needs of the neighbourhood. For example, if we see cafes and pards as most popular venues in the location, the needs will be a food that can be taken away or food trucks. The report will analyse the foursquare venue data in Manhattan to see the trend and potential needs of the locations that were selected previously.", 
            "cell_type": "markdown", 
            "metadata": {}
        }, 
        {
            "source": "## Data\n\n1) The crime data that will be used in the first analysis is from City of New York Open data. \nhttps://data.cityofnewyork.us/Public-Safety/NYPD-Arrest-Data-Year-to-Date-/uip8-fykc\n\nThis is a breakdown of every arrest effected in NYC by the NYPD during the current year.This data is manually extracted every quarter and reviewed by the Office of Management Analysis and Planning. Each record represents an arrest effected in NYC by the NYPD and includes information about the type of crime, the location and time of enforcement. In addition, information related to suspect demographics is also included. This data can be used by the public to explore the nature of police enforcement activity. \n", 
            "cell_type": "markdown", 
            "metadata": {}
        }, 
        {
            "source": "2) The neighborhood data for Manhattan will be extracted from the NYU Spatial data repository. The address is :https://geo.nyu.edu/catalog/nyu_2451_34572. This New York City Neighborhood Names point file was created as a guide to New York City\u2019s neighborhoods that appear on the web resource, \u201cNew York: A City of Neighborhoods.\u201d The data was created in 2014. ", 
            "cell_type": "markdown", 
            "metadata": {}
        }, 
        {
            "source": "3) The Foursquare API data  will also be used to explore venues around the location.", 
            "cell_type": "markdown", 
            "metadata": {}
        }, 
        {
            "source": "## Thank you for reviewing!", 
            "cell_type": "markdown", 
            "metadata": {}
        }
    ], 
    "metadata": {
        "kernelspec": {
            "display_name": "Python 3.5", 
            "name": "python3", 
            "language": "python"
        }, 
        "language_info": {
            "mimetype": "text/x-python", 
            "nbconvert_exporter": "python", 
            "version": "3.5.5", 
            "name": "python", 
            "file_extension": ".py", 
            "pygments_lexer": "ipython3", 
            "codemirror_mode": {
                "version": 3, 
                "name": "ipython"
            }
        }
    }, 
    "nbformat": 4
}